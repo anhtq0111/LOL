{
 "cells": [
  {
   "cell_type": "code",
   "execution_count": 1,
   "metadata": {},
   "outputs": [],
   "source": [
    "import requests\n",
    "import json\n",
    "import os\n",
    "\n",
    "api_key = os.getenv('API_KEY')\n",
    "puuid = os.getenv('PUUID')\n",
    "\n",
    "\n",
    "if not os.path.exists('Hadoop/Data'):\n",
    "    os.mkdir('Hadoop/Data')\n",
    "# Get match id by puuid\n",
    "request_for_match_id = f\"https://asia.api.riotgames.com/lol/match/v5/matches/by-puuid/{puuid}/ids?start=0&count=100&api_key={api_key}\"\n",
    "respond = requests.get(request_for_match_id)\n",
    "matchIds = json.loads(respond.text)\n",
    "\n",
    "# Get match by match id \n",
    "for id, matchId in enumerate(matchIds) :\n",
    "    requestUrl_for_matchInfor_byId = f\"https://asia.api.riotgames.com/lol/match/v5/matches/{matchId}?api_key={api_key}\"\n",
    "    respondMatch = requests.get(requestUrl_for_matchInfor_byId)\n",
    "    datas = json.loads(respondMatch.text)\n",
    "    if \"info\" in datas: \n",
    "        dataPar = datas[\"info\"][\"participants\"] \n",
    "        for i, data in enumerate(dataPar):\n",
    "            file_name = f'Match{id+1}_player{i+1}.json'\n",
    "            with open(f'Hadoop/Data/{file_name}', 'w') as f:\n",
    "                json.dump(data, f)"
   ]
  }
 ],
 "metadata": {
  "kernelspec": {
   "display_name": "Python 3",
   "language": "python",
   "name": "python3"
  },
  "language_info": {
   "codemirror_mode": {
    "name": "ipython",
    "version": 3
   },
   "file_extension": ".py",
   "mimetype": "text/x-python",
   "name": "python",
   "nbconvert_exporter": "python",
   "pygments_lexer": "ipython3",
   "version": "3.11.4"
  }
 },
 "nbformat": 4,
 "nbformat_minor": 2
}
